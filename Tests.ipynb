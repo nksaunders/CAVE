{
 "cells": [
  {
   "cell_type": "code",
   "execution_count": 1,
   "metadata": {
    "collapsed": false
   },
   "outputs": [],
   "source": [
    "import numpy as np\n",
    "import sputter as sp\n",
    "import matplotlib.pyplot as pl\n",
    "import everest as ev\n",
    "import csv\n",
    "from numpy import genfromtxt\n",
    "from everest import detrender\n",
    "from everest.math import SavGol, Scatter, Downbin\n",
    "from astropy.stats import median_absolute_deviation as mad\n",
    "from numpy.polynomial import polynomial as P\n",
    "from tqdm import tqdm\n",
    "from scipy.optimize import curve_fit\n",
    "% matplotlib qt\n",
    "# % matplotlib inline"
   ]
  },
  {
   "cell_type": "code",
   "execution_count": 9,
   "metadata": {
    "collapsed": false
   },
   "outputs": [],
   "source": [
    "datapath = '/Users/nks1994/Documents/Research/everest/docs/c0'\n",
    "dataloc = '.csv'\n",
    "\n",
    "# CAMPAIGN 1\n",
    "\n",
    "tags = []\n",
    "mags = []\n",
    "with open((datapath+str(1)+dataloc),'r') as f:\n",
    "    data = csv.reader(f)\n",
    "    for i,row in enumerate(data):\n",
    "        if i == 0:\n",
    "            continue\n",
    "        else:\n",
    "            tags.append(row[0])\n",
    "            mags.append(row[1])"
   ]
  },
  {
   "cell_type": "code",
   "execution_count": null,
   "metadata": {
    "collapsed": false
   },
   "outputs": [],
   "source": [
    "cdpps = []\n",
    "for t in tags:\n",
    "    star = ev.Everest(int(t))\n",
    "    cdpps.append(star.cdpp)"
   ]
  },
  {
   "cell_type": "code",
   "execution_count": null,
   "metadata": {
    "collapsed": false
   },
   "outputs": [],
   "source": [
    "cdpps = np.load('k21cdpps.npy')\n",
    "length = len(cdpps)"
   ]
  },
  {
   "cell_type": "code",
   "execution_count": null,
   "metadata": {
    "collapsed": false
   },
   "outputs": [],
   "source": [
    "fig = pl.figure(figsize=(15,5))\n",
    "pl.plot(mags[:length],cdpps,'b.',alpha = 0.25)\n",
    "pl.ylim([0,700])\n",
    "pl.xlim([5,20])"
   ]
  },
  {
   "cell_type": "code",
   "execution_count": null,
   "metadata": {
    "collapsed": false
   },
   "outputs": [],
   "source": [
    "#def rawCDPP(mag,motion):\n",
    "mag = 10\n",
    "motion = 0\n",
    "star = np.load('stars/larger_aperture/mag'+str(mag)+'motion'+str(motion)+'.npz')\n",
    "fpix = star['fpix']\n"
   ]
  },
  {
   "cell_type": "code",
   "execution_count": null,
   "metadata": {
    "collapsed": true
   },
   "outputs": [],
   "source": [
    "def simCDPP(mag,motion):\n",
    "\n",
    "    MN = sp.MotionNoise()\n",
    "    flux,rawflux = MN.DetrendFpix(mag,motion)\n",
    "\n",
    "    CDPP = MN.CDPP(rawflux)\n",
    "\n",
    "    return CDPP"
   ]
  },
  {
   "cell_type": "code",
   "execution_count": null,
   "metadata": {
    "collapsed": false
   },
   "outputs": [],
   "source": [
    "rawcdpps = []\n",
    "for i in tqdm(range(5)):\n",
    "    n = i+10\n",
    "    rawcdpps.append(simCDPP(n,1))"
   ]
  },
  {
   "cell_type": "code",
   "execution_count": null,
   "metadata": {
    "collapsed": false
   },
   "outputs": [],
   "source": [
    "simcdpps = []\n",
    "for i in tqdm(range(5)):\n",
    "    n = i + 10\n",
    "    simcdpps.append(simCDPP(n,1))"
   ]
  },
  {
   "cell_type": "code",
   "execution_count": null,
   "metadata": {
    "collapsed": false
   },
   "outputs": [],
   "source": [
    "fig = pl.figure(figsize=(15,5))\n",
    "pl.plot(mags[:length],cdpps,'b.',alpha = 0.25)\n",
    "pl.ylim([0,6000])\n",
    "pl.xlim([5,20])\n",
    "xs = [i+10 for i in range(5)]\n",
    "pl.plot(xs,rawcdpps,'g.',markersize=12)\n",
    "pl.plot(xs,simcdpps,'r.',markersize=12)\n",
    "pl.xlabel(r'$K_p\\ Mag$')\n",
    "pl.ylabel(r'$CDPP$')"
   ]
  },
  {
   "cell_type": "code",
   "execution_count": 10,
   "metadata": {
    "collapsed": false
   },
   "outputs": [],
   "source": [
    "t = np.linspace(0,20,1399)\n",
    "\n",
    "from scipy.optimize import curve_fit\n",
    "\n",
    "mags = [float(i) for i in mags] \n",
    "\n",
    "def fitFunc(x, a, b, c):\n",
    "    return a * np.exp(b*x) + c"
   ]
  },
  {
   "cell_type": "code",
   "execution_count": null,
   "metadata": {
    "collapsed": false
   },
   "outputs": [],
   "source": [
    "fitParams, fitCovariance = curve_fit(fitFunc, t, cdpps, p0=(1,1e-5,1))"
   ]
  },
  {
   "cell_type": "code",
   "execution_count": null,
   "metadata": {
    "collapsed": false
   },
   "outputs": [],
   "source": [
    "fig = pl.figure(figsize=(15,5))\n",
    "sigma = [fitCovariance[0,0], \\\n",
    "         fitCovariance[1,1], \\\n",
    "         ]\n",
    "pl.plot(t, fitFunc(t, fitParams[0], fitParams[1], fitParams[2]))\n",
    "#        t, fitFunc(t, fitParams[0] + sigma[0], fitParams[1] - sigma[1], fitParams[2] + sigma[2]),\\\n",
    "#        t, fitFunc(t, fitParams[0] - sigma[0], fitParams[1] + sigma[1], fitParams[2] - sigma[2]))"
   ]
  },
  {
   "cell_type": "code",
   "execution_count": null,
   "metadata": {
    "collapsed": false
   },
   "outputs": [],
   "source": [
    "pl.plot(mags[:length],cdpps,'k.')"
   ]
  },
  {
   "cell_type": "code",
   "execution_count": null,
   "metadata": {
    "collapsed": false
   },
   "outputs": [],
   "source": [
    "msort = sorted(mags,key=int)\n",
    "d = {k:m for k,m in enumerate(msort[:length])}\n",
    "csort = cdpps.sorted(key=d.get)"
   ]
  },
  {
   "cell_type": "code",
   "execution_count": null,
   "metadata": {
    "collapsed": false
   },
   "outputs": [],
   "source": [
    "csort = cdpps.reshape(mags[:length])"
   ]
  },
  {
   "cell_type": "code",
   "execution_count": null,
   "metadata": {
    "collapsed": false
   },
   "outputs": [],
   "source": [
    "motion = 0\n",
    "mag = 14\n",
    "path = 'stars/larger_aperture/mag' + str(mag) + 'motion' + str(motion) + '.npz'\n",
    "fpix = np.load(path)['fpix']\n",
    "\n",
    "fpix_rs = fpix.reshape(len(fpix),-1)\n",
    "tempflux = np.sum(fpix_rs,axis=1)"
   ]
  },
  {
   "cell_type": "code",
   "execution_count": null,
   "metadata": {
    "collapsed": false
   },
   "outputs": [],
   "source": [
    "pl.plot(tempflux,'k.')"
   ]
  },
  {
   "cell_type": "code",
   "execution_count": null,
   "metadata": {
    "collapsed": true
   },
   "outputs": [],
   "source": [
    "import everest"
   ]
  },
  {
   "cell_type": "code",
   "execution_count": null,
   "metadata": {
    "collapsed": false
   },
   "outputs": [],
   "source": [
    "everest.missions.k2.CDPP(tempflux[tempflux>1000000])"
   ]
  },
  {
   "cell_type": "code",
   "execution_count": null,
   "metadata": {
    "collapsed": false
   },
   "outputs": [],
   "source": [
    "MN = sp.MotionNoise()\n",
    "MN.CDPP(tempflux)"
   ]
  },
  {
   "cell_type": "code",
   "execution_count": null,
   "metadata": {
    "collapsed": false
   },
   "outputs": [],
   "source": [
    "star = everest.Everest(205071984)"
   ]
  },
  {
   "cell_type": "code",
   "execution_count": null,
   "metadata": {
    "collapsed": false
   },
   "outputs": [],
   "source": [
    "star.cdpp"
   ]
  },
  {
   "cell_type": "code",
   "execution_count": null,
   "metadata": {
    "collapsed": false
   },
   "outputs": [],
   "source": [
    "star.mag"
   ]
  },
  {
   "cell_type": "code",
   "execution_count": null,
   "metadata": {
    "collapsed": false
   },
   "outputs": [],
   "source": [
    "star.cdppr"
   ]
  },
  {
   "cell_type": "code",
   "execution_count": 11,
   "metadata": {
    "collapsed": false
   },
   "outputs": [
    {
     "ename": "NameError",
     "evalue": "name 'everest' is not defined",
     "output_type": "error",
     "traceback": [
      "\u001b[0;31m---------------------------------------------------------------------------\u001b[0m",
      "\u001b[0;31mNameError\u001b[0m                                 Traceback (most recent call last)",
      "\u001b[0;32m<ipython-input-11-5ce696175e6e>\u001b[0m in \u001b[0;36m<module>\u001b[0;34m()\u001b[0m\n\u001b[1;32m      3\u001b[0m \u001b[0;32mfor\u001b[0m \u001b[0mt\u001b[0m \u001b[0;32min\u001b[0m \u001b[0mtags\u001b[0m\u001b[0;34m[\u001b[0m\u001b[0;34m:\u001b[0m\u001b[0;36m10\u001b[0m\u001b[0;34m]\u001b[0m\u001b[0;34m:\u001b[0m\u001b[0;34m\u001b[0m\u001b[0m\n\u001b[1;32m      4\u001b[0m     \u001b[0mt\u001b[0m \u001b[0;34m=\u001b[0m \u001b[0mint\u001b[0m\u001b[0;34m(\u001b[0m\u001b[0mt\u001b[0m\u001b[0;34m)\u001b[0m\u001b[0;34m\u001b[0m\u001b[0m\n\u001b[0;32m----> 5\u001b[0;31m     \u001b[0mstar\u001b[0m \u001b[0;34m=\u001b[0m \u001b[0meverest\u001b[0m\u001b[0;34m.\u001b[0m\u001b[0mEverest\u001b[0m\u001b[0;34m(\u001b[0m\u001b[0mt\u001b[0m\u001b[0;34m)\u001b[0m\u001b[0;34m\u001b[0m\u001b[0m\n\u001b[0m\u001b[1;32m      6\u001b[0m     \u001b[0mcounts\u001b[0m\u001b[0;34m.\u001b[0m\u001b[0mappend\u001b[0m\u001b[0;34m(\u001b[0m\u001b[0mnp\u001b[0m\u001b[0;34m.\u001b[0m\u001b[0mmean\u001b[0m\u001b[0;34m(\u001b[0m\u001b[0mstar\u001b[0m\u001b[0;34m.\u001b[0m\u001b[0mapply_mask\u001b[0m\u001b[0;34m(\u001b[0m\u001b[0mstar\u001b[0m\u001b[0;34m.\u001b[0m\u001b[0mflux\u001b[0m\u001b[0;34m)\u001b[0m\u001b[0;34m)\u001b[0m\u001b[0;34m)\u001b[0m\u001b[0;34m\u001b[0m\u001b[0m\n\u001b[1;32m      7\u001b[0m     \u001b[0mN\u001b[0m\u001b[0;34m.\u001b[0m\u001b[0mappend\u001b[0m\u001b[0;34m(\u001b[0m\u001b[0;34m(\u001b[0m\u001b[0mnp\u001b[0m\u001b[0;34m.\u001b[0m\u001b[0mstd\u001b[0m\u001b[0;34m(\u001b[0m\u001b[0mstar\u001b[0m\u001b[0;34m.\u001b[0m\u001b[0mapply_mask\u001b[0m\u001b[0;34m(\u001b[0m\u001b[0mstar\u001b[0m\u001b[0;34m.\u001b[0m\u001b[0mflux\u001b[0m\u001b[0;34m)\u001b[0m\u001b[0;34m)\u001b[0m\u001b[0;34m/\u001b[0m\u001b[0mnp\u001b[0m\u001b[0;34m.\u001b[0m\u001b[0msqrt\u001b[0m\u001b[0;34m(\u001b[0m\u001b[0mnp\u001b[0m\u001b[0;34m.\u001b[0m\u001b[0mmean\u001b[0m\u001b[0;34m(\u001b[0m\u001b[0mstar\u001b[0m\u001b[0;34m.\u001b[0m\u001b[0mapply_mask\u001b[0m\u001b[0;34m(\u001b[0m\u001b[0mstar\u001b[0m\u001b[0;34m.\u001b[0m\u001b[0mflux\u001b[0m\u001b[0;34m)\u001b[0m\u001b[0;34m)\u001b[0m\u001b[0;34m)\u001b[0m\u001b[0;34m)\u001b[0m\u001b[0;34m)\u001b[0m\u001b[0;34m\u001b[0m\u001b[0m\n",
      "\u001b[0;31mNameError\u001b[0m: name 'everest' is not defined"
     ]
    }
   ],
   "source": [
    "counts = []\n",
    "N = []\n",
    "for t in tags[:10]:\n",
    "    t = int(t)\n",
    "    star = everest.Everest(t)\n",
    "    counts.append(np.mean(star.apply_mask(star.flux)))\n",
    "    N.append((np.std(star.apply_mask(star.flux))/np.sqrt(np.mean(star.apply_mask(star.flux)))))"
   ]
  },
  {
   "cell_type": "code",
   "execution_count": 21,
   "metadata": {
    "collapsed": false
   },
   "outputs": [],
   "source": [
    "Afile = np.load('A.npz')\n",
    "A = Afile['A']\n",
    "\n",
    "Aguess = [1e7,1,-8]"
   ]
  },
  {
   "cell_type": "code",
   "execution_count": 22,
   "metadata": {
    "collapsed": false
   },
   "outputs": [],
   "source": [
    "\n",
    "def func(x, a, b, x0):\n",
    "    return a * np.exp(-b * (x+x0))\n",
    "\n",
    "# Simulate data\n",
    "counts = np.random.random(1000) * 200000\n",
    "N = func(counts, 0.1, 1. / 2500, 0) + 0.0025 * np.random.randn(1000)\n",
    "\n",
    "# Plot data\n",
    "pl.plot(counts, N, 'r.', alpha = 0.3, ms = 2)\n",
    "\n",
    "# Fit the exponential\n",
    "guess = [0.1, 1. / 2500, 0]\n",
    "coeffs, _ = curve_fit(func, counts, N, p0 = guess)\n",
    "\n",
    "# Plot the fit\n",
    "xfit = np.linspace(0, 200000, 1000)\n",
    "pl.plot(xfit, func(xfit, *coeffs), 'k-')\n",
    "\n",
    "# Show\n",
    "pl.show() "
   ]
  },
  {
   "cell_type": "code",
   "execution_count": 23,
   "metadata": {
    "collapsed": false
   },
   "outputs": [
    {
     "data": {
      "text/plain": [
       "array([  1.98199852e+07,   9.13498171e-01,  -7.14784609e+00])"
      ]
     },
     "execution_count": 23,
     "metadata": {},
     "output_type": "execute_result"
    }
   ],
   "source": [
    "Acoeffs, _ = curve_fit(func, mags[:len(A)], A, p0 = Aguess)\n",
    "Acoeffs"
   ]
  },
  {
   "cell_type": "code",
   "execution_count": 41,
   "metadata": {
    "collapsed": false
   },
   "outputs": [],
   "source": [
    "fig = pl.figure(figsize=(15,5))\n",
    "x_ = np.linspace(0, 20, 1000)\n",
    "pl.plot(mags[:len(A)],A,'r.',alpha=0.5)\n",
    "pl.plot(x_,func(x_, 1.65e+07, 0.93, -7.35),'b')\n",
    "#pl.xlim([8,20])\n",
    "pl.ylim([0,1e7])\n",
    "pl.show()"
   ]
  },
  {
   "cell_type": "code",
   "execution_count": 36,
   "metadata": {
    "collapsed": false
   },
   "outputs": [],
   "source": [
    "def amp(mag):\n",
    "    x=mag\n",
    "    a,b,c = 1.65e+07, 0.93, -7.35\n",
    "    return a * np.exp(-b * (x+c)) "
   ]
  },
  {
   "cell_type": "code",
   "execution_count": 37,
   "metadata": {
    "collapsed": false
   },
   "outputs": [
    {
     "data": {
      "text/plain": [
       "218462.78067996842"
      ]
     },
     "execution_count": 37,
     "metadata": {},
     "output_type": "execute_result"
    }
   ],
   "source": [
    "amp(12)"
   ]
  },
  {
   "cell_type": "code",
   "execution_count": 38,
   "metadata": {
    "collapsed": true
   },
   "outputs": [],
   "source": [
    "def Amplitude(self, mag):\n",
    "    '''\n",
    "    Returns the amplitude of the PSF for a star of a given magnitude.\n",
    "    '''\n",
    "\n",
    "    x = mag\n",
    "    a,b,c = 1.65e+07, 0.93, -7.35\n",
    "    return a * np.exp(-b * (x+c)) "
   ]
  },
  {
   "cell_type": "code",
   "execution_count": 40,
   "metadata": {
    "collapsed": false
   },
   "outputs": [
    {
     "data": {
      "text/plain": [
       "18942"
      ]
     },
     "execution_count": 40,
     "metadata": {},
     "output_type": "execute_result"
    }
   ],
   "source": [
    "len(tags)"
   ]
  },
  {
   "cell_type": "code",
   "execution_count": 54,
   "metadata": {
    "collapsed": true
   },
   "outputs": [],
   "source": [
    "xpl = np.linspace(0,1,100)\n",
    "xpix = np.linspace(-.5,.5,100)"
   ]
  },
  {
   "cell_type": "code",
   "execution_count": 43,
   "metadata": {
    "collapsed": true
   },
   "outputs": [],
   "source": [
    "def PSF(params):\n",
    "    '''\n",
    "    Create PSF model from params\n",
    "    '''\n",
    "    amp1,amp2,x01,x02,y01,y02,background = params\n",
    "\n",
    "    cx_1 = [1.,0.,-0.3]\n",
    "    cx_2 = [1.,0.,-0.3]\n",
    "    cy_1 = [1.,0.,-0.3]\n",
    "    cy_2 = [1.,0.,-0.3]\n",
    "\n",
    "    sx = 0.5\n",
    "    sy = 0.5\n",
    "    rho = 0.0\n",
    "\n",
    "\n",
    "    model = np.zeros((9,9))\n",
    "    for i in range(9):\n",
    "        for j in range(9):\n",
    "            model[i][j] = PixelFlux(cx_1, cy_1, [amp1], [x01-i], [y01-j], [sx], [sy], [rho]) + \\\n",
    "                          PixelFlux(cx_2, cy_2, [amp2], [x02-i], [y02-j], [sx], [sy], [rho]) + \\\n",
    "                          background\n",
    "    return model"
   ]
  },
  {
   "cell_type": "code",
   "execution_count": 55,
   "metadata": {
    "collapsed": true
   },
   "outputs": [],
   "source": [
    "PS = lambda x: 1. -0.3 * x**2"
   ]
  },
  {
   "cell_type": "code",
   "execution_count": 62,
   "metadata": {
    "collapsed": true
   },
   "outputs": [],
   "source": [
    "pl.plot(xpl,PS(xpix),'k')\n",
    "pl.ylim([.8,1.])\n",
    "pl.xlabel('x (pixels)')\n",
    "pl.ylabel('Sensitivity')\n",
    "pl.show()"
   ]
  },
  {
   "cell_type": "code",
   "execution_count": null,
   "metadata": {
    "collapsed": true
   },
   "outputs": [],
   "source": []
  }
 ],
 "metadata": {
  "kernelspec": {
   "display_name": "Python 3",
   "language": "python",
   "name": "python3"
  },
  "language_info": {
   "codemirror_mode": {
    "name": "ipython",
    "version": 3
   },
   "file_extension": ".py",
   "mimetype": "text/x-python",
   "name": "python",
   "nbconvert_exporter": "python",
   "pygments_lexer": "ipython3",
   "version": "3.5.3"
  }
 },
 "nbformat": 4,
 "nbformat_minor": 0
}
