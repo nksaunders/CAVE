{
 "cells": [
  {
   "cell_type": "code",
   "execution_count": 9,
   "metadata": {
    "collapsed": false
   },
   "outputs": [],
   "source": [
    "import numpy as np\n",
    "import matplotlib.pyplot as pl\n",
    "import everest\n",
    "from everest.math import SavGol\n",
    "from intrapix import PixelFlux,Polynomial\n",
    "from random import randint\n",
    "from astropy.io import fits\n",
    "import pyfits\n",
    "from everest import Transit\n",
    "import k2plr\n",
    "from k2plr.config import KPLR_ROOT\n",
    "from everest.config import KEPPRF_DIR\n",
    "import os\n",
    "from scipy.optimize import fmin_powell\n",
    "\n",
    "%matplotlib inline"
   ]
  },
  {
   "cell_type": "code",
   "execution_count": 10,
   "metadata": {
    "collapsed": false
   },
   "outputs": [],
   "source": [
    "# generate transit model\n",
    "\n",
    "fpix = np.zeros((1000,5,5))\n",
    "\n",
    "t = np.linspace(0,90,len(fpix))\n",
    "per = 15\n",
    "dur = 0.5\n",
    "depth = 0.01\n",
    "trn = Transit(t, t0 = 5.0, per = per, dur = dur, depth = depth)"
   ]
  },
  {
   "cell_type": "code",
   "execution_count": 11,
   "metadata": {
    "collapsed": false
   },
   "outputs": [
    {
     "data": {
      "text/plain": [
       "(0.0, 90.0, 0.98499999999999999, 1.0049999999999999)"
      ]
     },
     "execution_count": 11,
     "metadata": {},
     "output_type": "execute_result"
    },
    {
     "data": {
      "image/png": "[encoded data removed]",
      "text/plain": [
       "<matplotlib.figure.Figure at 0x123d215f8>"
      ]
     },
     "metadata": {},
     "output_type": "display_data"
    }
   ],
   "source": [
    "pl.figure(figsize=(15,5));\n",
    "pl.plot(t,trn,'k.')\n",
    "pl.axis((0,90,0.985,1.005));\n",
    "pl.xlabel('Time (days)'); pl.ylabel('Flux (counts)');\n",
    "pl.axis('off');\n",
    "# pl.savefig('transit.eps', format='eps', dpi=250)"
   ]
  },
  {
   "cell_type": "code",
   "execution_count": 12,
   "metadata": {
    "collapsed": false
   },
   "outputs": [],
   "source": [
    "#read in relevant data\n",
    "\n",
    "ID = 205998445\n",
    "client = k2plr.API()\n",
    "star = client.k2_star(ID)\n",
    "tpf = star.get_target_pixel_files(fetch = True)[0]\n",
    "ftpf = os.path.join(KPLR_ROOT, 'data', 'k2', 'target_pixel_files', '%d' % ID, tpf._filename)\n",
    "with pyfits.open(ftpf) as f:\n",
    "    xpos = f[1].data['pos_corr1']\n",
    "    ypos = f[1].data['pos_corr2']"
   ]
  },
  {
   "cell_type": "code",
   "execution_count": 13,
   "metadata": {
    "collapsed": false
   },
   "outputs": [],
   "source": [
    "# throw out outliers and limit to first 1000 cadences\n",
    "\n",
    "for i in range(len(xpos)):\n",
    "    if abs(xpos[i]) >= 50 or abs(ypos[i]) >= 50:\n",
    "        xpos[i] = 0\n",
    "        ypos[i] = 0\n",
    "    if np.isnan(xpos[i]):\n",
    "        xpos[i] = 0\n",
    "    if np.isnan(ypos[i]):\n",
    "        ypos[i] = 0\n",
    "    '''\n",
    "    else:\n",
    "        xpos[i] /= 5\n",
    "        ypos[i] /= 5\n",
    "        \n",
    "    '''\n",
    "    \n",
    "xpos = xpos[:1000]\n",
    "ypos = ypos[:1000]\n"
   ]
  },
  {
   "cell_type": "code",
   "execution_count": 14,
   "metadata": {
    "collapsed": true
   },
   "outputs": [],
   "source": [
    "# define intra-pixel sensitivity variation\n",
    "\n",
    "intra = np.zeros((5,5))\n",
    "for i in range(5):\n",
    "    for j in range(5):\n",
    "        intra[i][j] = (0.995 + np.random.randint(10) / 1000)"
   ]
  },
  {
   "cell_type": "code",
   "execution_count": 15,
   "metadata": {
    "collapsed": true
   },
   "outputs": [],
   "source": [
    "# mask transits\n",
    "naninds = np.where(trn < 1)\n",
    "M = lambda x: np.delete(x, naninds, axis = 0)"
   ]
  },
  {
   "cell_type": "code",
   "execution_count": 16,
   "metadata": {
    "collapsed": false
   },
   "outputs": [],
   "source": [
    "# generate PSF model with inter-pixel sensitivity variation\n",
    "\n",
    "cx = [1.0,0.0,-.2]\n",
    "cy = [1.0,0.0,-.2]\n",
    "amp = [355000.0]\n",
    "x0 = 2.5\n",
    "y0 = 2.5\n",
    "sx = [.5]\n",
    "sy = [.5]\n",
    "rho = [0]\n",
    "\n",
    "magdiff = 1.0\n",
    "r = 10**(magdiff / 2.5)\n",
    "\n",
    "target = np.zeros((len(fpix),5,5))\n",
    "ferr = np.zeros((len(fpix),5,5))\n",
    "background_level = 800\n",
    "\n",
    "for c in range(1000):\n",
    "    for i in range(5):\n",
    "        for j in range(5):\n",
    "\n",
    "            # contribution from target\n",
    "            target_val = trn[c]*PixelFlux(cx,cy,amp,[x0-i+xpos[c]],[y0-j+ypos[c]],sx,sy,rho)\n",
    "            \n",
    "            # contribution from neighbor\n",
    "            val = target_val + (1/r)*PixelFlux(cx,cy,amp,[4.-i+xpos[c]],[4.-j+ypos[c]],sx,sy,rho)\n",
    "            \n",
    "            target[c][i][j] = target_val\n",
    "            fpix[c][i][j] = val\n",
    "            \n",
    "            # add photon noise\n",
    "            ferr[c][i][j] = np.sqrt(fpix[c][i][j]) \n",
    "            randnum = np.random.randn()\n",
    "            fpix[c][i][j] += ferr[c][i][j] * randnum\n",
    "            target[c][i][j] += ferr[c][i][j] * randnum\n",
    "            \n",
    "            # add background noise\n",
    "            noise = np.sqrt(background_level) * np.random.randn()\n",
    "            fpix[c][i][j] += background_level + noise\n",
    "            target[c][i][j] += background_level + noise\n",
    "            \n",
    "    # multiply by intra-pixel variation\n",
    "    fpix[c] *= intra\n",
    "    target[c] *= intra"
   ]
  },
  {
   "cell_type": "code",
   "execution_count": 17,
   "metadata": {
    "collapsed": false
   },
   "outputs": [
    {
     "data": {
      "text/plain": [
       "(0.0, 90.0, 420000.0, 455000.0)"
      ]
     },
     "execution_count": 17,
     "metadata": {},
     "output_type": "execute_result"
    },
    {
     "data": {
      "image/png": "[encoded data removed]",
      "text/plain": [
       "<matplotlib.figure.Figure at 0x123d0e780>"
      ]
     },
     "metadata": {},
     "output_type": "display_data"
    }
   ],
   "source": [
    "raw_fpix_rs = fpix.reshape(len(fpix),-1)\n",
    "raw_flux = np.sum(raw_fpix_rs,axis=1)\n",
    "\n",
    "pl.figure(figsize=(15,5))\n",
    "# pl.plot(t,trn*np.mean(raw_flux),'r');\n",
    "pl.plot(t,raw_flux,'k.');\n",
    "# pl.xlabel('Time (days)'); pl.ylabel('Flux (counts)');\n",
    "pl.axis('off');\n",
    "# pl.savefig('nomotion_transit.eps', format='eps', dpi=250, transparent=True)"
   ]
  },
  {
   "cell_type": "code",
   "execution_count": 18,
   "metadata": {
    "collapsed": false
   },
   "outputs": [
    {
     "data": {
      "text/plain": [
       "<matplotlib.image.AxesImage at 0x123d0e630>"
      ]
     },
     "execution_count": 18,
     "metadata": {},
     "output_type": "execute_result"
    },
    {
     "data": {
      "image/png": "[encoded data removed]",
      "text/plain": [
       "<matplotlib.figure.Figure at 0x12f279ac8>"
      ]
     },
     "metadata": {},
     "output_type": "display_data"
    }
   ],
   "source": [
    "fig = pl.figure(figsize=(5.6,5));\n",
    "pl.imshow(fpix[-1],interpolation='nearest',origin='lower',cmap='viridis');\n",
    "# pl.savefig('neighbor.eps', format='eps', dpi=250, transparent=True)"
   ]
  },
  {
   "cell_type": "code",
   "execution_count": 19,
   "metadata": {
    "collapsed": false
   },
   "outputs": [
    {
     "data": {
      "text/plain": [
       "[<matplotlib.lines.Line2D at 0x1179b1e80>]"
      ]
     },
     "execution_count": 19,
     "metadata": {},
     "output_type": "execute_result"
    },
    {
     "data": {
      "image/png": "[encoded data removed]",
      "text/plain": [
       "<matplotlib.figure.Figure at 0x12ef21518>"
      ]
     },
     "metadata": {},
     "output_type": "display_data"
    }
   ],
   "source": [
    "def CenterOfFlux(fpix):\n",
    "    ncad, ny, nx = fpix.shape\n",
    "    x0 = np.zeros(ncad)\n",
    "    y0 = np.zeros(ncad)\n",
    "    for n in range(ncad):\n",
    "        x0[n] = np.sum([(i+0.5)*fpix[n][:,i] for i in range(nx)]) / np.sum(fpix[n])\n",
    "        y0[n] = np.sum([(ny-j-0.5)*fpix[n][j,:] for j in range(ny)]) / np.sum(fpix[n])\n",
    "    return x0,y0\n",
    "\n",
    "x0,y0 = CenterOfFlux(fpix)\n",
    "pl.plot(x0,y0,'k')"
   ]
  },
  {
   "cell_type": "code",
   "execution_count": 20,
   "metadata": {
    "collapsed": true
   },
   "outputs": [],
   "source": [
    "def crowding(fpix):\n",
    "    # crowding parameter for each pixel\n",
    "    c_pix = np.zeros((len(fpix),5,5))\n",
    "\n",
    "    # crowding parameter for entire detector\n",
    "    c_det = np.zeros((len(fpix)))\n",
    "\n",
    "    for c in range(len(fpix)):\n",
    "        for i in range(5):\n",
    "            for j in range(5):\n",
    "                if np.isnan(fpix[c][i][j]):\n",
    "                    continue\n",
    "                else:\n",
    "                    c_pix[c][i][j] = target[c][i][j] / fpix[c][i][j]\n",
    "\n",
    "        c_det[c] = np.nansum(target[c]) / np.nansum(fpix[c])\n",
    "        \n",
    "    return c_det, c_pix\n",
    "\n",
    "c_det, c_pix = crowding(fpix)"
   ]
  },
  {
   "cell_type": "code",
   "execution_count": 21,
   "metadata": {
    "collapsed": false
   },
   "outputs": [],
   "source": [
    "def firstOrderPLD(fpix):\n",
    "    \n",
    "    fpix_rs = fpix.reshape(len(fpix),-1)\n",
    "    flux = np.sum(fpix_rs,axis=1)\n",
    "\n",
    "    # mask transits\n",
    "    X = fpix_rs / flux.reshape(-1,1)\n",
    "    MX = M(fpix_rs) / M(flux).reshape(-1,1)\n",
    "\n",
    "    # perform first order PLD\n",
    "    A = np.dot(MX.T, MX)\n",
    "    B = np.dot(MX.T, M(flux))\n",
    "    C = np.linalg.solve(A, B)\n",
    "\n",
    "    # compute detrended light curve\n",
    "    model = np.dot(X, C)\n",
    "    detrended = flux - model + np.nanmean(flux)\n",
    "\n",
    "    D = (detrended - np.dot(C[1:], X[:,1:].T) + np.nanmedian(detrended)) / np.nanmedian(detrended)\n",
    "    T = (t - 5.0 - per / 2.) % per - per / 2.\n",
    "    \n",
    "    return detrended, flux\n",
    "\n",
    "detrended, flux = firstOrderPLD(fpix)"
   ]
  },
  {
   "cell_type": "code",
   "execution_count": 22,
   "metadata": {
    "collapsed": false
   },
   "outputs": [
    {
     "data": {
      "image/png": "[encoded data removed]",
      "text/plain": [
       "<matplotlib.figure.Figure at 0x123dd6f98>"
      ]
     },
     "metadata": {},
     "output_type": "display_data"
    }
   ],
   "source": [
    "pl.figure(figsize=(15,5))\n",
    "pl.plot(t,detrended,'k.');\n",
    "pl.plot(t,np.mean(flux)*trn,'r');\n",
    "pl.xlabel('Time (days)'); pl.ylabel('Flux (counts)');"
   ]
  },
  {
   "cell_type": "code",
   "execution_count": null,
   "metadata": {
    "collapsed": true
   },
   "outputs": [],
   "source": [
    "def recoverTransit(lightcurve_in):\n",
    "    '''\n",
    "    Solve for depth of transit in detrended lightcurve\n",
    "    '''\n",
    "\n",
    "    detrended = lightcurve_in\n",
    "    \n",
    "    # normalize transit model\n",
    "    transit_model = (trn - 1) / depth\n",
    "\n",
    "    # create relevant arrays\n",
    "    X = np.array(([],[]), dtype = float).T\n",
    "    for i in range(len(fpix)):\n",
    "        rowx = np.array([[1.,transit_model[i]]])\n",
    "        X = np.vstack((X, rowx))\n",
    "    Y = detrended / np.nanmedian(detrended)\n",
    "\n",
    "    # solve for recovered transit depth\n",
    "    A = np.dot(X.T, X)\n",
    "    B = np.dot(X.T, Y)\n",
    "    C = np.linalg.solve(A, B)\n",
    "    rec_depth = C[1]\n",
    "\n",
    "    return rec_depth\n",
    "\n",
    "rd_noap = recoverTransit(detrended)"
   ]
  },
  {
   "cell_type": "code",
   "execution_count": null,
   "metadata": {
    "collapsed": true
   },
   "outputs": [],
   "source": [
    "# define aperture\n",
    "aperture1 = np.zeros((5,5))\n",
    "aperture2 = np.zeros((5,5))\n",
    "\n",
    "for i in range(5):\n",
    "    for j in range(5):\n",
    "        if i == 3 and j == 3:\n",
    "            aperture1[i][j] = 1.0\n",
    "            aperture2[i][j] = np.nan\n",
    "        elif -1 < i < 4 and -1 < j < 4:\n",
    "            aperture1[i][j] = 1.0\n",
    "            aperture2[i][j] = 1.0\n",
    "        else:\n",
    "            aperture1[i][j] = np.nan\n",
    "            aperture2[i][j] = np.nan"
   ]
  },
  {
   "cell_type": "code",
   "execution_count": null,
   "metadata": {
    "collapsed": false
   },
   "outputs": [],
   "source": [
    "def aperturePLD(fpix, aperture):\n",
    "    \n",
    "    aperture = [aperture for i in range(len(fpix))]\n",
    "                    \n",
    "    # import pdb; pdb.set_trace()\n",
    "    fpix_rs = (fpix*aperture).reshape(len(fpix),-1)\n",
    "    fpix_ap = np.zeros((len(fpix),len(np.delete(fpix_rs[0],np.where(np.isnan(fpix_rs[0]))))))\n",
    "    \n",
    "    for c in range(len(fpix_rs)):\n",
    "        naninds = np.where(np.isnan(fpix_rs[c]))\n",
    "        fpix_ap[c] = np.delete(fpix_rs[c],naninds)\n",
    "     \n",
    "    flux = np.sum(fpix_ap,axis=1)\n",
    "    X = fpix_ap / flux.reshape(-1,1)\n",
    "    MX = M(fpix_ap) / M(flux).reshape(-1,1)\n",
    "    \n",
    "    # perform first order PLD\n",
    "    A = np.dot(MX.T, MX)\n",
    "    B = np.dot(MX.T, M(flux))\n",
    "    C = np.linalg.solve(A, B)\n",
    "\n",
    "    # compute detrended light curve\n",
    "    model = np.dot(X, C)\n",
    "    detrended = flux - model + np.nanmean(flux)\n",
    "                    \n",
    "    return aperture,detrended,flux"
   ]
  },
  {
   "cell_type": "code",
   "execution_count": null,
   "metadata": {
    "collapsed": false
   },
   "outputs": [],
   "source": [
    "ap1, apdetrended1, apflux1 = aperturePLD(fpix,aperture1)\n",
    "ap2, apdetrended2, apflux2 = aperturePLD(fpix,aperture2)\n",
    "pl.figure(figsize=(15,5))\n",
    "pl.plot(t,apdetrended2,'k.');\n",
    "pl.plot(t,np.mean(apflux2)*trn,'r');\n",
    "pl.xlabel('Time (days)'); pl.ylabel('Flux (counts)');\n",
    "# pl.savefig('lightcurve1.eps', format='eps', dpi=250)"
   ]
  },
  {
   "cell_type": "code",
   "execution_count": null,
   "metadata": {
    "collapsed": false
   },
   "outputs": [],
   "source": [
    "dc0, pc0 = crowding(fpix)\n",
    "dc1, pc1 = crowding(fpix*aperture1)\n",
    "dc2, pc2 = crowding(fpix*aperture2)\n",
    "rd_ap1 = recoverTransit(apdetrended1)\n",
    "rd_ap2 = recoverTransit(apdetrended2)\n",
    "np.mean(dc0)"
   ]
  },
  {
   "cell_type": "code",
   "execution_count": null,
   "metadata": {
    "collapsed": false
   },
   "outputs": [],
   "source": [
    "fig, ax = pl.subplots(1,3, sharey=True)\n",
    "fig.set_size_inches(17,5)\n",
    "\n",
    "ax[0].imshow(fpix[-1],interpolation='nearest',origin='lower',cmap='viridis')\n",
    "ax[1].imshow(ap1[-1]*fpix[-1],interpolation='nearest',origin='lower',cmap='viridis')\n",
    "ax[2].imshow(ap2[-1]*fpix[-1],interpolation='nearest',origin='lower',cmap='viridis')\n",
    "'''\n",
    "ax[0].annotate(r'$\\mathrm{Recovered\\ Depth}: %.4f$' % (rd_noap),\n",
    "                xy = (0.05, 0.05),xycoords='axes fraction',\n",
    "                color='w', fontsize=12);\n",
    "ax[1].annotate(r'$\\mathrm{Recovered\\ Depth}: %.4f$' % (rd_ap1),\n",
    "                xy = (0.05, 0.05),xycoords='axes fraction',\n",
    "                color='w', fontsize=12);\n",
    "ax[2].annotate(r'$\\mathrm{Recovered\\ Depth}: %.4f$' % (rd_ap2),\n",
    "                xy = (0.05, 0.05),xycoords='axes fraction',\n",
    "                color='w', fontsize=12);\n",
    "\n",
    "ax[0].annotate(r'$\\mathrm{Crowding\\ Corrected\\ Depth}: %.4f$' % (rd_noap / np.mean(dc0)),\n",
    "                xy = (0.05, 0.05),xycoords='axes fraction',\n",
    "                color='w', fontsize=12);\n",
    "ax[1].annotate(r'$\\mathrm{Crowding\\ Corrected\\ Depth}: %.4f$' % (rd_ap1 / np.mean(dc1)),\n",
    "                xy = (0.05, 0.05),xycoords='axes fraction',\n",
    "                color='w', fontsize=12);\n",
    "ax[2].annotate(r'$\\mathrm{Crowding\\ Corrected\\ Depth}: %.4f$' % (rd_ap2 / np.mean(dc2)),\n",
    "                xy = (0.05, 0.05),xycoords='axes fraction',\n",
    "                color='w', fontsize=12);\n",
    "'''\n",
    "# pl.savefig('aps.eps', format='eps', dpi=250,transparent=True)"
   ]
  },
  {
   "cell_type": "code",
   "execution_count": null,
   "metadata": {
    "collapsed": true
   },
   "outputs": [],
   "source": [
    "def PSF(params):\n",
    "    amp1,amp2,x01,x02,y01,y02 = params\n",
    "    \n",
    "    cx_1 = [1.,0.,0.]\n",
    "    cx_2 = [1.,0.,0.]\n",
    "    cy_1 = [1.,0.,0.]\n",
    "    cy_2 = [1.,0.,0.]\n",
    "    sx = 0.5\n",
    "    sy = 0.5\n",
    "    rho = 0.0\n",
    "    \n",
    "    \n",
    "    model = np.zeros((5,5))\n",
    "    for i in range(5):\n",
    "        for j in range(5):\n",
    "            model[i][j] = PixelFlux(cx_1, cy_1, [amp1], [x01-i], [y01-j], [sx], [sy], [rho]) + \\\n",
    "                          PixelFlux(cx_2, cy_2, [amp2], [x02-i], [y02-j], [sx], [sy], [rho])\n",
    "    return model"
   ]
  },
  {
   "cell_type": "code",
   "execution_count": null,
   "metadata": {
    "collapsed": false
   },
   "outputs": [],
   "source": [
    "# fit PSF for target and neighbor simultaneously\n",
    "\n",
    "nsrc = 2\n",
    "xtol = 0.0001\n",
    "ftol = 0.0001\n",
    "\n",
    "def FindSolution(index = 100):\n",
    "    \n",
    "    X = np.nansum((fpix[index] / ferr[index]) ** 2)\n",
    "    \n",
    "    amp = [355000.0,(355000.0 / r)]\n",
    "    x0 = [2.5,4.]\n",
    "    y0 = [2.5,4.]\n",
    "    sx = [.5]\n",
    "    sy = [.5]\n",
    "    rho = [0]\n",
    "\n",
    "    guess = np.concatenate([amp,x0,y0])\n",
    "    \n",
    "    answer, chisq, _, iter, funcalls, warn = fmin_powell(LnLikelihood, guess, xtol = xtol, ftol = ftol,\n",
    "                                                         disp = False, full_output = True)\n",
    "\n",
    "    bic = chisq + len(answer) * np.log(len(fpix))\n",
    "    \n",
    "    return bic, chisq, answer\n",
    "    "
   ]
  },
  {
   "cell_type": "code",
   "execution_count": null,
   "metadata": {
    "collapsed": true
   },
   "outputs": [],
   "source": [
    "def Fit(params):\n",
    "    '''\n",
    "    Returns a simple :py:class:`Fit` object that\n",
    "    contains information about the PSF fit.\n",
    "\n",
    "    '''\n",
    "\n",
    "    # read variables\n",
    "    amp1,amp2,x01,x02,y01,y02 = params\n",
    "    \n",
    "    fit = PSF(params)\n",
    "\n",
    "    # instance the class\n",
    "    return type('Fit', (object,), {'amp1' : amp1, 'amp2' : amp2, 'x01' : x01, 'x02' : x02, 'y01' : y01, 'y02' : y02, \n",
    "                                   'fit': fit})"
   ]
  },
  {
   "cell_type": "code",
   "execution_count": null,
   "metadata": {
    "collapsed": true
   },
   "outputs": [],
   "source": [
    "def LnLikelihood(params):\n",
    "    \n",
    "    fit = Fit(params)\n",
    "    PSFfit = fit.fit\n",
    "    index = 100\n",
    "    dtol = 0.01\n",
    "    x01 = fit.x01\n",
    "    y01 = fit.y01\n",
    "    x02 = fit.x02\n",
    "    y02 = fit.x02\n",
    "    \n",
    "    # sum squared difference between data and model \n",
    "    PSFres = np.nansum(((fpix[index] - PSFfit) / ferr[index]) ** 2)\n",
    "    \n",
    "    '''\n",
    "    PSFres += np.nansum(((np.array([2.5,4.]) - np.array([x01,x02])) / dtol) ** 2 + \\\n",
    "                        ((np.array([2.5,4.]) - np.array([y01,y02])) / dtol) ** 2)\n",
    "    if max(np.abs(2.5 - x01), np.abs(2.5 - y01)) > 10.0:\n",
    "    PRFres = 1.0e300\n",
    "    \n",
    "    \n",
    "    # Prior likelihood\n",
    "    s_s = 1.\n",
    "    sx0 = 0.5 + s_s * np.random.randn()\n",
    "    sy0 = 0.5 + s_s * np.random.randn()\n",
    "    PSFres += (1/2) * ((sx - sx0) / s_s)**2\n",
    "    PSFres += (1/2) * ((sy - sy0) / s_s)**2\n",
    "    PSFres += (-1/2) * (rho / s_s)**2\n",
    "    '''\n",
    "    \n",
    "    # constrain position values\n",
    "    if ((2.5 - x01)**2 + (2.5 - y01)**2) > 16:\n",
    "        PSFres = 1.0e300  \n",
    "    if ((4. - x02)**2 + (4. - y02)**2) > 16:\n",
    "        PSFres = 1.0e300 \n",
    "    if rho > 1 or rho < -1:\n",
    "        PSFRes = 1.0e300\n",
    "        \n",
    "    #if (sx > 2 * np.pi) or (sy > 2 * np.pi):\n",
    "    #    PSFres = 1.0e300 \n",
    " \n",
    "    # Reject negative values\n",
    "    for elem in params:\n",
    "        if elem < 0:\n",
    "            PSFres = 1.0e300\n",
    "\n",
    "    return PSFres"
   ]
  },
  {
   "cell_type": "code",
   "execution_count": null,
   "metadata": {
    "collapsed": false
   },
   "outputs": [],
   "source": [
    "bic,quisq,answer = FindSolution()"
   ]
  },
  {
   "cell_type": "code",
   "execution_count": null,
   "metadata": {
    "collapsed": false
   },
   "outputs": [],
   "source": [
    "amp = [355000.0,(355000.0 / r)]\n",
    "x0 = [2.5,4.]\n",
    "y0 = [2.5,4.]\n",
    "sx = [.5]\n",
    "sy = [.5]\n",
    "rho = [0]\n",
    "\n",
    "guess = np.concatenate([amp,x0,y0])\n",
    "\n",
    "tryPSF = PSF(answer)\n",
    "realPSF = PSF(guess)\n",
    "pl.imshow(tryPSF,interpolation='nearest',origin='lower',cmap='viridis')"
   ]
  },
  {
   "cell_type": "code",
   "execution_count": null,
   "metadata": {
    "collapsed": false
   },
   "outputs": [],
   "source": [
    "pol = lambda x: Polynomial(x,[1.,0.,-0.05])\n",
    "x = np.linspace(-0.5,0.5,100)\n",
    "pl.plot(x,pol(x))"
   ]
  },
  {
   "cell_type": "code",
   "execution_count": null,
   "metadata": {
    "collapsed": false
   },
   "outputs": [],
   "source": [
    "fig = pl.figure(figsize=(5.6,5));\n",
    "pl.imshow(c_pix[-1],interpolation='nearest',origin='lower',cmap='jet_r');pl.colorbar();\n",
    "# pl.savefig('crowding.eps', format='eps', dpi=250, transparent=True)"
   ]
  },
  {
   "cell_type": "code",
   "execution_count": null,
   "metadata": {
    "collapsed": false
   },
   "outputs": [],
   "source": [
    "t1 = np.linspace(0,90,10000)\n",
    "trn1 = Transit(t1, t0 = 5.0, per = per, dur = dur, depth = depth)\n",
    "pl.figure(figsize=(22,5));\n",
    "pl.plot(t1,trn1,'k.');\n",
    "pl.xlim([0,40]);\n",
    "pl.ylim([0.987,1.001]);\n",
    "pl.axis('off');\n",
    "# pl.savefig('perftransit.eps', format='eps', dpi=250, transparent=True);"
   ]
  },
  {
   "cell_type": "code",
   "execution_count": null,
   "metadata": {
    "collapsed": false
   },
   "outputs": [],
   "source": [
    "import matplotlib.animation as animation\n",
    "\n",
    "fig2 = pl.figure()\n",
    "\n",
    "x = np.arange(-9, 10)\n",
    "y = np.arange(-9, 10).reshape(-1, 1)\n",
    "base = np.hypot(x, y)\n",
    "ims = []\n",
    "for add in np.arange(15):\n",
    "    ims.append((pl.pcolor(x, y, base + add, norm=pl.Normalize(0, 30)),))\n",
    "\n",
    "im_ani = animation.ArtistAnimation(fig2, ims, interval=50, repeat_delay=3000,\n",
    "                                   blit=True)\n",
    "# To save this second animation with some metadata, use the following command:\n",
    "# im_ani.save('im.mp4', metadata={'artist':'Guido'})\n",
    "\n",
    "pl.show()"
   ]
  },
  {
   "cell_type": "code",
   "execution_count": null,
   "metadata": {
    "collapsed": false
   },
   "outputs": [],
   "source": [
    "fig = pl.figure(figsize=(5.6,5))\n",
    "answer_neighbor = [0,(355000.0),0,3.5,0,3.5]\n",
    "neighborPSF = PSF(answer_neighbor)\n",
    "PSFModel = PSF([355000.0,(355000.0),2.5,3.5,2.5,3.5])\n",
    "pl.imshow(PSFModel,interpolation='nearest',origin='lower',cmap='viridis')\n",
    "pl.savefig('brightneigh.eps', format='eps', dpi=250, transparent=True)"
   ]
  },
  {
   "cell_type": "code",
   "execution_count": null,
   "metadata": {
    "collapsed": false
   },
   "outputs": [],
   "source": [
    "fitout = PSFModel-neighborPSF\n",
    "pl.imshow(fitout,interpolation='nearest',origin='lower',cmap='viridis');pl.colorbar()"
   ]
  },
  {
   "cell_type": "code",
   "execution_count": null,
   "metadata": {
    "collapsed": false
   },
   "outputs": [],
   "source": [
    "fig, ax = pl.subplots(1,3, sharey=True)\n",
    "fig.set_size_inches(17,5)\n",
    "\n",
    "ax[0].imshow(PSFModel,interpolation='nearest',origin='lower',cmap='viridis',vmin=0,vmax=160000)\n",
    "ax[1].imshow(neighborPSF,interpolation='nearest',origin='lower',cmap='viridis',vmin=0,vmax=160000)\n",
    "ax[2].imshow(fitout,interpolation='nearest',origin='lower',cmap='viridis',vmin=0,vmax=160000)\n",
    "pl.savefig('fittest.eps', format='eps', dpi=250,transparent=True)"
   ]
  },
  {
   "cell_type": "code",
   "execution_count": null,
   "metadata": {
    "collapsed": false
   },
   "outputs": [],
   "source": [
    "answer - guess"
   ]
  },
  {
   "cell_type": "code",
   "execution_count": null,
   "metadata": {
    "collapsed": true
   },
   "outputs": [],
   "source": []
  }
 ],
 "metadata": {
  "kernelspec": {
   "display_name": "Python 3",
   "language": "python",
   "name": "python3"
  },
  "language_info": {
   "codemirror_mode": {
    "name": "ipython",
    "version": 3
   },
   "file_extension": ".py",
   "mimetype": "text/x-python",
   "name": "python",
   "nbconvert_exporter": "python",
   "pygments_lexer": "ipython3",
   "version": "3.5.3"
  }
 },
 "nbformat": 4,
 "nbformat_minor": 0
}
